{
  "nbformat": 4,
  "nbformat_minor": 0,
  "metadata": {
    "colab": {
      "name": "assignment 5 queing.ipynb",
      "provenance": [],
      "collapsed_sections": []
    },
    "kernelspec": {
      "name": "python3",
      "display_name": "Python 3"
    },
    "language_info": {
      "name": "python"
    }
  },
  "cells": [
    {
      "cell_type": "code",
      "metadata": {
        "colab": {
          "base_uri": "https://localhost:8080/"
        },
        "id": "oQ6BvpMsn6Y2",
        "outputId": "3e9b3272-86be-4a00-b4ee-19f36ea83d5d"
      },
      "source": [
        "print(\"\\t\\t\\tSIMULATION Assignment 5\\n\\n\")\n",
        "#no_of_customer = 20"
      ],
      "execution_count": 48,
      "outputs": [
        {
          "output_type": "stream",
          "text": [
            "\t\t\tSIMULATION Assignment 5\n",
            "\n",
            "\n"
          ],
          "name": "stdout"
        }
      ]
    },
    {
      "cell_type": "markdown",
      "metadata": {
        "id": "aEsVrcp6pKH_"
      },
      "source": [
        "#inter_arrival time distribution"
      ]
    },
    {
      "cell_type": "code",
      "metadata": {
        "colab": {
          "base_uri": "https://localhost:8080/"
        },
        "id": "YUZ1p_uCyQ1c",
        "outputId": "5f9620cb-48ff-4689-c297-b0fad7134330"
      },
      "source": [
        "#using poisson distribution\n",
        "from scipy.stats import *\n",
        "\n",
        "inter_arrival = poisson.rvs( mu = 5.6,size=20 )\n",
        "inter_arrival[0] = 0\n",
        "\n",
        "print(inter_arrival)"
      ],
      "execution_count": 49,
      "outputs": [
        {
          "output_type": "stream",
          "text": [
            "[ 0  6  4  5  6  7 10  5  9  5  7  4  8  5  5  6  8  7 11  3]\n"
          ],
          "name": "stdout"
        }
      ]
    },
    {
      "cell_type": "markdown",
      "metadata": {
        "id": "EgvmM62szlFX"
      },
      "source": [
        "#Arrival time"
      ]
    },
    {
      "cell_type": "code",
      "metadata": {
        "id": "UzzboyBUvyfa",
        "colab": {
          "base_uri": "https://localhost:8080/"
        },
        "outputId": "59480e71-b4b1-4e80-e231-543c6db4d5de"
      },
      "source": [
        "arrival_time = [0]\n",
        "\n",
        "for i in range(1,20):\n",
        "  arrival_time.append( inter_arrival[i] + arrival_time[i-1] )\n",
        "\n",
        "print(arrival_time)"
      ],
      "execution_count": 50,
      "outputs": [
        {
          "output_type": "stream",
          "text": [
            "[0, 6, 10, 15, 21, 28, 38, 43, 52, 57, 64, 68, 76, 81, 86, 92, 100, 107, 118, 121]\n"
          ],
          "name": "stdout"
        }
      ]
    },
    {
      "cell_type": "code",
      "metadata": {
        "colab": {
          "base_uri": "https://localhost:8080/"
        },
        "id": "GankjZqkA2dE",
        "outputId": "83229434-183a-4d8f-f52d-5141bf99de93"
      },
      "source": [
        "print(\"Customer no.\",\"\\tInter_arrival_Time\",\"\\tArrival_Time\")\n",
        "for i in range(20):\n",
        "  print(\"\\t\",i,\"\\t\\t \",inter_arrival[i], \"\\t\\t\" ,arrival_time[i])"
      ],
      "execution_count": 51,
      "outputs": [
        {
          "output_type": "stream",
          "text": [
            "Customer no. \tInter_arrival_Time \tArrival_Time\n",
            "\t 0 \t\t  0 \t\t 0\n",
            "\t 1 \t\t  6 \t\t 6\n",
            "\t 2 \t\t  4 \t\t 10\n",
            "\t 3 \t\t  5 \t\t 15\n",
            "\t 4 \t\t  6 \t\t 21\n",
            "\t 5 \t\t  7 \t\t 28\n",
            "\t 6 \t\t  10 \t\t 38\n",
            "\t 7 \t\t  5 \t\t 43\n",
            "\t 8 \t\t  9 \t\t 52\n",
            "\t 9 \t\t  5 \t\t 57\n",
            "\t 10 \t\t  7 \t\t 64\n",
            "\t 11 \t\t  4 \t\t 68\n",
            "\t 12 \t\t  8 \t\t 76\n",
            "\t 13 \t\t  5 \t\t 81\n",
            "\t 14 \t\t  5 \t\t 86\n",
            "\t 15 \t\t  6 \t\t 92\n",
            "\t 16 \t\t  8 \t\t 100\n",
            "\t 17 \t\t  7 \t\t 107\n",
            "\t 18 \t\t  11 \t\t 118\n",
            "\t 19 \t\t  3 \t\t 121\n"
          ],
          "name": "stdout"
        }
      ]
    },
    {
      "cell_type": "markdown",
      "metadata": {
        "id": "Q-0Jqm5zsscz"
      },
      "source": [
        "#service time distribution"
      ]
    },
    {
      "cell_type": "code",
      "metadata": {
        "colab": {
          "base_uri": "https://localhost:8080/"
        },
        "id": "w0GOdErQsy2Y",
        "outputId": "42702321-b3ff-4192-eb6c-e6d6f545cdef"
      },
      "source": [
        "#using exponential distribution\n",
        "import math\n",
        "import numpy as np\n",
        "data_expons =  expon.rvs(size=20,loc=5,scale=1)\n",
        "data_test  = data_expons\n",
        "#for i in range(20):\n",
        "  #data_expon[i] = math.trunc(data_expon[i])\n",
        "\n",
        "#service_time = [math.trunc(data_expon) for data_expon in data_expons]\n",
        "service_time = [np.round(data_expon,2) for data_expon in data_expons]\n",
        "\n",
        "print(service_time)\n"
      ],
      "execution_count": 52,
      "outputs": [
        {
          "output_type": "stream",
          "text": [
            "[7.0, 7.22, 5.69, 5.02, 6.58, 7.43, 5.99, 5.39, 5.03, 5.02, 5.09, 5.02, 5.17, 8.25, 8.07, 5.22, 5.11, 5.53, 6.33, 5.28]\n"
          ],
          "name": "stdout"
        }
      ]
    },
    {
      "cell_type": "markdown",
      "metadata": {
        "id": "lZP7F0EoDn4E"
      },
      "source": [
        "#first row values and declaring variable"
      ]
    },
    {
      "cell_type": "code",
      "metadata": {
        "colab": {
          "base_uri": "https://localhost:8080/"
        },
        "id": "FJs0QU_VBkfO",
        "outputId": "b65fbb33-dd9f-4f8f-fce4-a95b617d2d70"
      },
      "source": [
        "time_service_begin = [0]\n",
        "customer_wait = [0]\n",
        "idle_time_server = [0]\n",
        "\n",
        "time_service_end = []\n",
        "\n",
        "customer_spend_system = []\n",
        "value1 = (arrival_time[0] + service_time[0] + customer_wait[0])\n",
        "\n",
        "time_service_end = [ value1 ]\n",
        "\n",
        "value2 = (service_time[0] + customer_wait[0])\n",
        "customer_spend_system = [ value2 ]\n",
        "\n",
        "print(time_service_end)\n",
        "print(customer_spend_system)"
      ],
      "execution_count": 53,
      "outputs": [
        {
          "output_type": "stream",
          "text": [
            "[7.0]\n",
            "[7.0]\n"
          ],
          "name": "stdout"
        }
      ]
    },
    {
      "cell_type": "markdown",
      "metadata": {
        "id": "2rWID3OZa56_"
      },
      "source": [
        "#Calculating values of simulation table"
      ]
    },
    {
      "cell_type": "code",
      "metadata": {
        "id": "nmp70GhXDpiD"
      },
      "source": [
        "count_customer_wait = 0\n",
        "total_waiting_time = 0\n",
        " \n",
        "for i in range(1,20):\n",
        "  \n",
        "  #value = i-1\n",
        "  #print(i, \"-- \",value)\n",
        "  #print(time_service_begin)\n",
        "  \n",
        "  time_service_begin.append(max(time_service_end[i-1], arrival_time[i]))\n",
        "  \n",
        "  \n",
        " \n",
        "  if (arrival_time[i] >= time_service_end[i-1 ]):\n",
        "    customer_wait.append(0)\n",
        "  else:\n",
        "    customer_wait.append( time_service_end[i-1] - arrival_time[i] )\n",
        "    count_customer_wait +=1\n",
        "    total_waiting_time = total_waiting_time + customer_wait[i]\n",
        "  \n",
        "  \n",
        "  time_service_end.append((arrival_time[i] + service_time[i] + customer_wait[i]))\n",
        "  customer_spend_system.append((service_time[i] + customer_wait[i]))\n",
        " \n",
        " \n",
        " \n",
        "  if (arrival_time[i] > time_service_end[i-1 ]):\n",
        "   idle_time_server.append( arrival_time[i] - time_service_end[i-1] ) \n",
        "  else:\n",
        "    idle_time_server.append(0) \n",
        "  \n",
        "  avg_no_of_customer_wait = count_customer_wait / 20\n",
        "  avg_waiting_time = total_waiting_time / 20"
      ],
      "execution_count": 54,
      "outputs": []
    },
    {
      "cell_type": "code",
      "metadata": {
        "colab": {
          "base_uri": "https://localhost:8080/"
        },
        "id": "XSTr3r78Xde8",
        "outputId": "25584da5-9135-41f5-a5be-c2ce3203c243"
      },
      "source": [
        "print(\"\\t\\t\\t\\t\\t\\t\\t-------------------------------------------------\")\n",
        "print(\"\\t\\t\\t\\t\\t\\t\\t|\\t\\t\\t\\t\\t\\t|\")\n",
        "print(\"\\t\\t\\t\\t\\t\\t\\t|\\tSingle Channel Queuing Problem\\t\\t|\")\n",
        "print(\"\\t\\t\\t\\t\\t\\t\\t|\\t\\t\\t\\t\\t\\t|\")\n",
        "print(\"\\t\\t\\t\\t\\t\\t\\t-------------------------------------------------\")\n",
        "\n",
        "print(\"\\n------------------------------------------------------------------------------------------------------------------------------------------------------------------------------------------------\")\n",
        "print(\"Customer No.\",\"\\tInter_Arrival_Time\",\"\\tArrival_Time\",\"\\tService_Time\",\"\\tTime_Service_Begin\",\"\\tCustomer_Wait_In_Queue\",\"\\tTime_Service_End\",\"\\tCustomer_Spend_In_System\",\"\\tServer_Idle_Time\")\n",
        "print(\"------------------------------------------------------------------------------------------------------------------------------------------------------------------------------------------------\")\n",
        "\n",
        "for i in range(20):\n",
        "  print(\"\\t\",i,\"\\t\\t\",inter_arrival[i],\"\\t\\t  \",arrival_time[i],\"\\t\\t  \",\"{0:.2f}\".format(service_time[i]),\"\\t\\t\\t\",\"{0:.2f}\".format(time_service_begin[i]),\"\\t\\t\\t\",\"{0:.2f}\".format(customer_wait[i]),\"\\t\\t\\t\",\"{0:.2f}\".format(time_service_end[i]),\"\\t\\t\\t\",\"{0:.2f}\".format(customer_spend_system[i]),\"\\t\\t\\t\\t\",\"{0:.2f}\".format(idle_time_server[i]))\n",
        "\n",
        "print(\"------------------------------------------------------------------------------------------------------------------------------------------------------------------------------------------------\\n\")\n",
        "print(\"Average NO of Customer waiting in the Queue : \",avg_no_of_customer_wait)\n",
        "print(\"Average Waiting Time of a Customer : \",np.round(avg_waiting_time,2))"
      ],
      "execution_count": 71,
      "outputs": [
        {
          "output_type": "stream",
          "text": [
            "\t\t\t\t\t\t\t-------------------------------------------------\n",
            "\t\t\t\t\t\t\t|\t\t\t\t\t\t|\n",
            "\t\t\t\t\t\t\t|\tSingle Channel Queuing Problem\t\t|\n",
            "\t\t\t\t\t\t\t|\t\t\t\t\t\t|\n",
            "\t\t\t\t\t\t\t-------------------------------------------------\n",
            "\n",
            "------------------------------------------------------------------------------------------------------------------------------------------------------------------------------------------------\n",
            "Customer No. \tInter_Arrival_Time \tArrival_Time \tService_Time \tTime_Service_Begin \tCustomer_Wait_In_Queue \tTime_Service_End \tCustomer_Spend_In_System \tServer_Idle_Time\n",
            "------------------------------------------------------------------------------------------------------------------------------------------------------------------------------------------------\n",
            "\t 0 \t\t 0 \t\t   0 \t\t   7.00 \t\t\t 0.00 \t\t\t 0.00 \t\t\t 7.00 \t\t\t 7.00 \t\t\t\t 0.00\n",
            "\t 1 \t\t 6 \t\t   6 \t\t   7.22 \t\t\t 7.00 \t\t\t 1.00 \t\t\t 14.22 \t\t\t 8.22 \t\t\t\t 0.00\n",
            "\t 2 \t\t 4 \t\t   10 \t\t   5.69 \t\t\t 14.22 \t\t\t 4.22 \t\t\t 19.91 \t\t\t 9.91 \t\t\t\t 0.00\n",
            "\t 3 \t\t 5 \t\t   15 \t\t   5.02 \t\t\t 19.91 \t\t\t 4.91 \t\t\t 24.93 \t\t\t 9.93 \t\t\t\t 0.00\n",
            "\t 4 \t\t 6 \t\t   21 \t\t   6.58 \t\t\t 24.93 \t\t\t 3.93 \t\t\t 31.51 \t\t\t 10.51 \t\t\t\t 0.00\n",
            "\t 5 \t\t 7 \t\t   28 \t\t   7.43 \t\t\t 31.51 \t\t\t 3.51 \t\t\t 38.94 \t\t\t 10.94 \t\t\t\t 0.00\n",
            "\t 6 \t\t 10 \t\t   38 \t\t   5.99 \t\t\t 38.94 \t\t\t 0.94 \t\t\t 44.93 \t\t\t 6.93 \t\t\t\t 0.00\n",
            "\t 7 \t\t 5 \t\t   43 \t\t   5.39 \t\t\t 44.93 \t\t\t 1.93 \t\t\t 50.32 \t\t\t 7.32 \t\t\t\t 0.00\n",
            "\t 8 \t\t 9 \t\t   52 \t\t   5.03 \t\t\t 52.00 \t\t\t 0.00 \t\t\t 57.03 \t\t\t 5.03 \t\t\t\t 1.68\n",
            "\t 9 \t\t 5 \t\t   57 \t\t   5.02 \t\t\t 57.03 \t\t\t 0.03 \t\t\t 62.05 \t\t\t 5.05 \t\t\t\t 0.00\n",
            "\t 10 \t\t 7 \t\t   64 \t\t   5.09 \t\t\t 64.00 \t\t\t 0.00 \t\t\t 69.09 \t\t\t 5.09 \t\t\t\t 1.95\n",
            "\t 11 \t\t 4 \t\t   68 \t\t   5.02 \t\t\t 69.09 \t\t\t 1.09 \t\t\t 74.11 \t\t\t 6.11 \t\t\t\t 0.00\n",
            "\t 12 \t\t 8 \t\t   76 \t\t   5.17 \t\t\t 76.00 \t\t\t 0.00 \t\t\t 81.17 \t\t\t 5.17 \t\t\t\t 1.89\n",
            "\t 13 \t\t 5 \t\t   81 \t\t   8.25 \t\t\t 81.17 \t\t\t 0.17 \t\t\t 89.42 \t\t\t 8.42 \t\t\t\t 0.00\n",
            "\t 14 \t\t 5 \t\t   86 \t\t   8.07 \t\t\t 89.42 \t\t\t 3.42 \t\t\t 97.49 \t\t\t 11.49 \t\t\t\t 0.00\n",
            "\t 15 \t\t 6 \t\t   92 \t\t   5.22 \t\t\t 97.49 \t\t\t 5.49 \t\t\t 102.71 \t\t\t 10.71 \t\t\t\t 0.00\n",
            "\t 16 \t\t 8 \t\t   100 \t\t   5.11 \t\t\t 102.71 \t\t\t 2.71 \t\t\t 107.82 \t\t\t 7.82 \t\t\t\t 0.00\n",
            "\t 17 \t\t 7 \t\t   107 \t\t   5.53 \t\t\t 107.82 \t\t\t 0.82 \t\t\t 113.35 \t\t\t 6.35 \t\t\t\t 0.00\n",
            "\t 18 \t\t 11 \t\t   118 \t\t   6.33 \t\t\t 118.00 \t\t\t 0.00 \t\t\t 124.33 \t\t\t 6.33 \t\t\t\t 4.65\n",
            "\t 19 \t\t 3 \t\t   121 \t\t   5.28 \t\t\t 124.33 \t\t\t 3.33 \t\t\t 129.61 \t\t\t 8.61 \t\t\t\t 0.00\n",
            "------------------------------------------------------------------------------------------------------------------------------------------------------------------------------------------------\n",
            "\n",
            "Average NO of Customer waiting in the Queue :  0.75\n",
            "Average Waiting Time of a Customer :  1.87\n"
          ],
          "name": "stdout"
        }
      ]
    },
    {
      "cell_type": "code",
      "metadata": {
        "colab": {
          "base_uri": "https://localhost:8080/"
        },
        "id": "H5pRH7KQUnzQ",
        "outputId": "1a4f4ca9-a524-42d7-b13c-949960c965d9"
      },
      "source": [
        ""
      ],
      "execution_count": 35,
      "outputs": [
        {
          "output_type": "stream",
          "text": [
            "None\n"
          ],
          "name": "stdout"
        }
      ]
    }
  ]
}
